{
  "nbformat": 4,
  "nbformat_minor": 0,
  "metadata": {
    "colab": {
      "name": "Untitled",
      "provenance": [],
      "collapsed_sections": [],
      "toc_visible": true,
      "authorship_tag": "ABX9TyM2p/oFx2gnsFEz4sG+d5Kf",
      "include_colab_link": true
    },
    "kernelspec": {
      "name": "python3",
      "display_name": "Python 3"
    },
    "language_info": {
      "name": "python"
    }
  },
  "cells": [
    {
      "cell_type": "markdown",
      "metadata": {
        "id": "view-in-github",
        "colab_type": "text"
      },
      "source": [
        "<a href=\"https://colab.research.google.com/github/Spsunil8682/oootask-1/blob/main/Untitled.ipynb\" target=\"_parent\"><img src=\"https://colab.research.google.com/assets/colab-badge.svg\" alt=\"Open In Colab\"/></a>"
      ]
    },
    {
      "cell_type": "code",
      "metadata": {
        "colab": {
          "base_uri": "https://localhost:8080/"
        },
        "id": "AKDIBePUEWrV",
        "outputId": "4f59d72c-6c6d-48f3-8164-d46515279f3e"
      },
      "source": [
        "def isLeap(year):\n",
        "  if (year%4 != 0):\n",
        "    return False\n",
        "  else:\n",
        "    if (year%100 != 0):\n",
        "      return True\n",
        "    elif (year%100 == 0):\n",
        "      if (year%400 == 0):\n",
        "        return True\n",
        "      else:\n",
        "        return False\n",
        "\n",
        "year = int(input(\"Enter the year: \"))\n",
        "print(isLeap(year))"
      ],
      "execution_count": 1,
      "outputs": [
        {
          "output_type": "stream",
          "name": "stdout",
          "text": [
            "Enter the year: 2021\n",
            "False\n"
          ]
        }
      ]
    },
    {
      "cell_type": "markdown",
      "metadata": {
        "id": "0LoYzskJEm4b"
      },
      "source": [
        "problem 2\n"
      ]
    },
    {
      "cell_type": "code",
      "metadata": {
        "colab": {
          "base_uri": "https://localhost:8080/"
        },
        "id": "e57WtF2sEpZQ",
        "outputId": "533c65e0-80ba-48a7-8579-e5dbf00949ca"
      },
      "source": [
        "n = int(input())\n",
        "if n % 2 == 1:\n",
        "    print(\"Weird\")\n",
        "elif n % 2 == 0 and 2 <= n <= 5:\n",
        "    print(\"Not Weird\")\n",
        "elif n % 2 == 0 and 6 <= n <= 20:\n",
        "    print(\"Weird\")\n",
        "else:\n",
        "    print(\"Not Weird\")"
      ],
      "execution_count": 4,
      "outputs": [
        {
          "output_type": "stream",
          "name": "stdout",
          "text": [
            "44\n",
            "Not Weird\n"
          ]
        }
      ]
    },
    {
      "cell_type": "markdown",
      "metadata": {
        "id": "VxPk7LKFE6o4"
      },
      "source": [
        "problem 3"
      ]
    },
    {
      "cell_type": "code",
      "metadata": {
        "colab": {
          "base_uri": "https://localhost:8080/"
        },
        "id": "0CR_n1O-E8eZ",
        "outputId": "36ac0b7d-3455-4f7a-f198-bd141523b670"
      },
      "source": [
        "n = int(input(\"Enter the number of Guests: \"))\n",
        "guests = []\n",
        "\n",
        "for i in range(0, n):\n",
        "  name = str(input(\"Enter the name of Guests: \"))\n",
        "  guests.append(name)\n",
        "print(\"Guests are: \", guests)\n",
        "if(n%2==0):\n",
        "  for k in range( int((n)/2) , n-1):\n",
        "    print(\"\\nFashionable late persons are: \", guests[k])\n",
        "elif(n%2 != 0):\n",
        "  for k in range( int((n-1)/2) , n-1):\n",
        "    print(\"\\nFashionable late persons are: \", guests[k])"
      ],
      "execution_count": null,
      "outputs": [
        {
          "name": "stdout",
          "output_type": "stream",
          "text": [
            "Enter the number of Guests: 7\n"
          ]
        }
      ]
    },
    {
      "cell_type": "markdown",
      "metadata": {
        "id": "C6E16prGFqao"
      },
      "source": [
        "problem 4\n"
      ]
    },
    {
      "cell_type": "code",
      "metadata": {
        "id": "VyNiuv6mF6qJ"
      },
      "source": [
        "def search_for_keyword(doc_list, keyword):\n",
        "  req_list = []\n",
        "  for doc in doc_list:\n",
        "    duplicate = doc\n",
        "    duplicate.replace(',','')\n",
        "    duplicate.replace('.','')\n",
        "    duplicate_list = duplicate.split()\n",
        "    for word in duplicate_list:\n",
        "      if word.lower() == keyword.lower():\n",
        "        req_list.append(doc)\n",
        "  \n",
        "  return req_list\n",
        "\n",
        "doc_list = [\"The Learn Python Challenge Rohit.\", \"They bought a car\", \"bangalore\"]\n",
        "\n",
        "keyword = input('Enter the keyword: ')\n",
        "required_list= search_for_keyword(doc_list, keyword)\n",
        "print(req_list)\n",
        "\n",
        "keyword = input('Enter the keyword: ')\n",
        "required_list = search_for_keyword(doc_list, keyword)\n",
        "print(req_list)\n",
        "\n",
        "keyword = input('Enter the keyword: ')\n",
        "required_list = search_for_keyword(doc_list, keyword)\n",
        "print(req_list)"
      ],
      "execution_count": null,
      "outputs": []
    },
    {
      "cell_type": "code",
      "metadata": {
        "colab": {
          "base_uri": "https://localhost:8080/"
        },
        "id": "5hV_oCRHGfd3",
        "outputId": "5be1bafd-d4b8-41d0-b691-b6596ee89a04"
      },
      "source": [
        "\n",
        "def gross_pay(BP):\n",
        "  DA= 0.40 *BP\n",
        "  HRA = 0.20 * BP\n",
        "  return BP+ DA + HRA\n",
        "\n",
        "print(\"gp of 100000 = \",gross_pay(5060) )"
      ],
      "execution_count": 9,
      "outputs": [
        {
          "output_type": "stream",
          "name": "stdout",
          "text": [
            "gp of 100000 =  8096.0\n"
          ]
        }
      ]
    }
  ]
}